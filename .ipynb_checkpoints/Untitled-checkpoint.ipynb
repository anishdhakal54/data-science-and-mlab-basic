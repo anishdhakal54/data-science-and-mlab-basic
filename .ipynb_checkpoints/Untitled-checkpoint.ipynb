{
 "cells": [
  {
   "cell_type": "code",
   "execution_count": null,
   "metadata": {},
   "outputs": [],
   "source": []
  }
 ],
 "metadata": {
  "kernelspec": {
   "display_name": "Python 3.9.12 ('base')",
   "language": "python",
   "name": "python3"
  },
  "language_info": {
   "name": "python",
   "version": "3.9.12"
  },
  "vscode": {
   "interpreter": {
    "hash": "c3ca160da4b28c7f6d6d49a400d1bd6b5077e582bd1e0f363c2e87a75e0725be"
   }
  }
 },
 "nbformat": 4,
 "nbformat_minor": 5
}
