{
 "cells": [
  {
   "cell_type": "code",
   "execution_count": 2,
   "metadata": {},
   "outputs": [
    {
     "data": {
      "text/plain": [
       "'C:\\\\spark3'"
      ]
     },
     "execution_count": 2,
     "metadata": {},
     "output_type": "execute_result"
    }
   ],
   "source": [
    "#importing, initializing and finding spark location with findspark\n",
    "import findspark\n",
    "findspark.init()\n",
    "findspark.find()"
   ]
  },
  {
   "cell_type": "code",
   "execution_count": 3,
   "metadata": {},
   "outputs": [],
   "source": [
    "#importing pyspark and importing spark session from spark sql\n",
    "import pyspark\n",
    "from pyspark.sql import SparkSession"
   ]
  },
  {
   "cell_type": "code",
   "execution_count": 4,
   "metadata": {},
   "outputs": [],
   "source": [
    "#initializing spark session and giving app name for the session\n",
    "spark=SparkSession.builder.appName('hello world').getOrCreate()"
   ]
  },
  {
   "cell_type": "code",
   "execution_count": 37,
   "metadata": {},
   "outputs": [],
   "source": [
    "#reading csv file with pyspark\n",
    "df_pyspark=spark.read.csv('../test.csv',header=True,inferSchema='true')\n"
   ]
  },
  {
   "cell_type": "code",
   "execution_count": 7,
   "metadata": {},
   "outputs": [
    {
     "data": {
      "text/plain": [
       "pyspark.sql.dataframe.DataFrame"
      ]
     },
     "execution_count": 7,
     "metadata": {},
     "output_type": "execute_result"
    }
   ],
   "source": [
    "df_pyspark.printSchema()\n",
    "#dataframe type\n",
    "type(df_pyspark)"
   ]
  },
  {
   "cell_type": "code",
   "execution_count": 8,
   "metadata": {},
   "outputs": [
    {
     "data": {
      "text/plain": [
       "['name', 'age']"
      ]
     },
     "execution_count": 8,
     "metadata": {},
     "output_type": "execute_result"
    }
   ],
   "source": [
    "#showing columns of data frame\n",
    "df_pyspark.columns"
   ]
  },
  {
   "cell_type": "code",
   "execution_count": 9,
   "metadata": {},
   "outputs": [
    {
     "data": {
      "text/plain": [
       "[Row(name='anish', age=12),\n",
       " Row(name='fadsfa', age=32),\n",
       " Row(name='fsadfsa', age=43)]"
      ]
     },
     "execution_count": 9,
     "metadata": {},
     "output_type": "execute_result"
    }
   ],
   "source": [
    "#finding top 3 data\n",
    "df_pyspark.head(3)"
   ]
  },
  {
   "cell_type": "code",
   "execution_count": 11,
   "metadata": {},
   "outputs": [
    {
     "name": "stdout",
     "output_type": "stream",
     "text": [
      "+--------+---+\n",
      "|    Name|age|\n",
      "+--------+---+\n",
      "|   anish| 12|\n",
      "|  fadsfa| 32|\n",
      "| fsadfsa| 43|\n",
      "|fadfgghs| 54|\n",
      "+--------+---+\n",
      "\n"
     ]
    }
   ],
   "source": [
    "#selecting column manually\n",
    "df_pyspark.select(['Name','age']).show()"
   ]
  },
  {
   "cell_type": "code",
   "execution_count": 13,
   "metadata": {},
   "outputs": [
    {
     "data": {
      "text/plain": [
       "[('name', 'string'), ('age', 'int')]"
      ]
     },
     "execution_count": 13,
     "metadata": {},
     "output_type": "execute_result"
    }
   ],
   "source": [
    "#checking data types\n",
    "df_pyspark.dtypes"
   ]
  },
  {
   "cell_type": "code",
   "execution_count": 14,
   "metadata": {},
   "outputs": [
    {
     "name": "stdout",
     "output_type": "stream",
     "text": [
      "+-------+-------+------------------+\n",
      "|summary|   name|               age|\n",
      "+-------+-------+------------------+\n",
      "|  count|      4|                 4|\n",
      "|   mean|   null|             35.25|\n",
      "| stddev|   null|17.914147109663542|\n",
      "|    min|  anish|                12|\n",
      "|    max|fsadfsa|                54|\n",
      "+-------+-------+------------------+\n",
      "\n"
     ]
    }
   ],
   "source": [
    "df_pyspark.describe().show()"
   ]
  },
  {
   "cell_type": "code",
   "execution_count": 32,
   "metadata": {},
   "outputs": [],
   "source": [
    "##adding columns in data frame\n",
    "df_pyspark=df_pyspark.withColumn('Experience after 2 years',df_pyspark['age']+10)"
   ]
  },
  {
   "cell_type": "code",
   "execution_count": 38,
   "metadata": {},
   "outputs": [
    {
     "name": "stdout",
     "output_type": "stream",
     "text": [
      "+--------+----+----------+------+\n",
      "|    name| age|experience|salary|\n",
      "+--------+----+----------+------+\n",
      "|   anish|  12|        10| 90000|\n",
      "|  fadsfa|  32|        20| 80000|\n",
      "| fsadfsa|  43|        30| 70000|\n",
      "|fadfgghs|  54|        15| 60000|\n",
      "|     ram|  16|         4| 50000|\n",
      "|   shyam|null|      null| 40000|\n",
      "|    null|  34|        10|  6000|\n",
      "|    null|  36|      null|543533|\n",
      "+--------+----+----------+------+\n",
      "\n"
     ]
    }
   ],
   "source": [
    "df_pyspark.show()"
   ]
  },
  {
   "cell_type": "code",
   "execution_count": 34,
   "metadata": {},
   "outputs": [],
   "source": [
    "##Drop the columns\n",
    "df_pyspark=df_pyspark.drop('Experience after 2 years')"
   ]
  },
  {
   "cell_type": "code",
   "execution_count": 35,
   "metadata": {},
   "outputs": [
    {
     "name": "stdout",
     "output_type": "stream",
     "text": [
      "+--------+---+\n",
      "|    name|age|\n",
      "+--------+---+\n",
      "|   anish| 12|\n",
      "|  fadsfa| 32|\n",
      "| fsadfsa| 43|\n",
      "|fadfgghs| 54|\n",
      "+--------+---+\n",
      "\n"
     ]
    }
   ],
   "source": [
    "df_pyspark.show()"
   ]
  },
  {
   "cell_type": "code",
   "execution_count": 36,
   "metadata": {},
   "outputs": [
    {
     "name": "stdout",
     "output_type": "stream",
     "text": [
      "+--------+---+\n",
      "|New Name|age|\n",
      "+--------+---+\n",
      "|   anish| 12|\n",
      "|  fadsfa| 32|\n",
      "| fsadfsa| 43|\n",
      "|fadfgghs| 54|\n",
      "+--------+---+\n",
      "\n"
     ]
    }
   ],
   "source": [
    "##rename the colum\n",
    "df_pyspark=df_pyspark.withColumnRenamed('Name','New Name').show()"
   ]
  },
  {
   "cell_type": "code",
   "execution_count": null,
   "metadata": {},
   "outputs": [],
   "source": []
  }
 ],
 "metadata": {
  "kernelspec": {
   "display_name": "Python 3.9.12 ('base')",
   "language": "python",
   "name": "python3"
  },
  "language_info": {
   "codemirror_mode": {
    "name": "ipython",
    "version": 3
   },
   "file_extension": ".py",
   "mimetype": "text/x-python",
   "name": "python",
   "nbconvert_exporter": "python",
   "pygments_lexer": "ipython3",
   "version": "3.9.12"
  },
  "orig_nbformat": 4,
  "vscode": {
   "interpreter": {
    "hash": "c3ca160da4b28c7f6d6d49a400d1bd6b5077e582bd1e0f363c2e87a75e0725be"
   }
  }
 },
 "nbformat": 4,
 "nbformat_minor": 2
}
